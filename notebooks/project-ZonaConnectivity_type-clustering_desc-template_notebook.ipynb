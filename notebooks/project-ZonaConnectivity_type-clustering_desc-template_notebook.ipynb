{
 "cells": [
  {
   "cell_type": "markdown",
   "id": "1ed05a3d-5a59-414c-a34c-aaecad907a69",
   "metadata": {},
   "source": [
    "# Zona inceta region (ZIR) structural connectivity dataset comparison\n",
    "\n",
    "## Python Libraries"
   ]
  },
  {
   "cell_type": "code",
   "execution_count": 0,
   "id": "0aeb3112-a521-4396-b20d-a529e17d1f02",
   "metadata": {},
   "outputs": [],
   "source": [
    "from __future__ import annotations\n",
    "\n",
    "from pathlib import Path\n",
    "\n",
    "import matplotlib.pyplot as plt\n",
    "import nibabel as nib\n",
    "import numpy as np\n",
    "import seaborn as sns\n",
    "from tqdm.notebook import trange"
   ]
  },
  {
   "cell_type": "markdown",
   "id": "00ef5c51-1b70-4095-b8a3-4b265e16e150",
   "metadata": {},
   "source": [
    "## Constants"
   ]
  },
  {
   "cell_type": "code",
   "execution_count": 0,
   "id": "95eb8723-105d-47f4-9da0-98da4902b949",
   "metadata": {},
   "outputs": [],
   "source": [
    "VOXEL_SZ = 0.7  # mm\n",
    "\n",
    "COL_LABELS = [\"7T\", \"3T\", \"3T test\"]\n",
    "ROW_LABELS = [\"3T\", \"3T test\", \"3T retest\"]\n",
    "\n",
    "MASK = np.zeros_like(np.zeros((3, 3), dtype=bool))\n",
    "MASK[np.triu_indices_from(MASK, k=1)] = True"
   ]
  },
  {
   "cell_type": "markdown",
   "id": "48eae860-91eb-44af-a528-cfe618140866",
   "metadata": {},
   "source": [
    "## Load data\n",
    "\n",
    "### 3T"
   ]
  },
  {
   "cell_type": "code",
   "execution_count": 0,
   "id": "c4c566a6-3a04-4621-b33e-f5ebaade7ba7",
   "metadata": {},
   "outputs": [],
   "source": [
    "# Left hemi\n",
    "sorted_dseg = nib.load(\n",
    "    \"../zonaconn-smk_3T/results/diffparc/tpl-MNI152NLin6Asym/tpl-MNI152NLin6Asym_hemi-L_label-ZIR_desc-sorted_from-group_method-spectralcosine_k-6_dseg.nii.gz\"\n",
    ")\n",
    "seed_3T_affine = sorted_dseg.affine\n",
    "sorted_dseg = sorted_dseg.get_fdata()\n",
    "labels_L = sorted_dseg[sorted_dseg > 0] - 1  # Make 0-indexed\n",
    "data_L = np.load(\n",
    "    \"../zonaconn-smk_3T/results/diffparc/tpl-MNI152NLin6Asym/tpl-MNI152NLin6Asym_hemi-L_label-ZIR_desc-concat_from-group_connMap.npz\"\n",
    ")\n",
    "mask_L = data_L[\"mask\"]\n",
    "seed_3Tvol_L = np.zeros(mask_L.shape)\n",
    "seed_3Tvol_L[mask_L > 0] = labels_L + 1  # add a 1 so label 0 is diff from bg\n",
    "\n",
    "# Right hemi\n",
    "sorted_dseg = nib.load(\n",
    "    \"../zonaconn-smk_3T/results/diffparc/tpl-MNI152NLin6Asym/tpl-MNI152NLin6Asym_hemi-R_label-ZIR_desc-sorted_from-group_method-spectralcosine_k-6_dseg.nii.gz\"\n",
    ")\n",
    "sorted_dseg = sorted_dseg.get_fdata()\n",
    "labels_R = sorted_dseg[sorted_dseg > 0] - 1  # Make 0-indexed\n",
    "data_R = np.load(\n",
    "    \"../zonaconn-smk_3T/results/diffparc/tpl-MNI152NLin6Asym/tpl-MNI152NLin6Asym_hemi-R_label-ZIR_desc-concat_from-group_connMap.npz\"\n",
    ")\n",
    "mask_R = data_R[\"mask\"]\n",
    "seed_3Tvol_R = np.zeros(mask_R.shape)\n",
    "seed_3Tvol_R[mask_R > 0] = labels_R + 1  # add a 1 so label 0 is diff from bg"
   ]
  },
  {
   "cell_type": "code",
   "execution_count": 0,
   "id": "3f648e9a-5db9-4e19-bef0-e286cba20215",
   "metadata": {},
   "outputs": [
    {
     "name": "stdout",
     "output_type": "stream",
     "text": [
      "3T Left: 1981.0\n",
      "3T Right: 1901.0\n"
     ]
    }
   ],
   "source": [
    "zir_l = nib.load(\n",
    "    \"../zonaconn-smk_3T/results/diffparc/tpl-MNI152NLin6Asym/tpl-MNI152NLin6Asym_hemi-L_label-ZIR_mask.nii.gz\"\n",
    ")\n",
    "zir_l = zir_l.get_fdata()\n",
    "print(f\"3T Left: {sum(zir_l[zir_l>0])}\")\n",
    "\n",
    "zir_r = nib.load(\n",
    "    \"../zonaconn-smk_3T/results/diffparc/tpl-MNI152NLin6Asym/tpl-MNI152NLin6Asym_hemi-R_label-ZIR_mask.nii.gz\"\n",
    ")\n",
    "zir_r = zir_r.get_fdata()\n",
    "print(f\"3T Right: {sum(zir_r[zir_r>0])}\")"
   ]
  },
  {
   "cell_type": "markdown",
   "id": "c0472eb1-d5a4-4f1c-979c-fbdf9c88a428",
   "metadata": {},
   "source": [
    "### 7T"
   ]
  },
  {
   "cell_type": "code",
   "execution_count": 0,
   "id": "40b97643-18fd-4d40-9c80-fbf0fa066dd6",
   "metadata": {},
   "outputs": [],
   "source": [
    "# Left hemi\n",
    "sorted_dseg = nib.load(\n",
    "    \"../zonaconn-smk_7T/results/diffparc/tpl-MNI152NLin6Asym/tpl-MNI152NLin6Asym_hemi-L_label-ZIR_desc-sorted_from-group_method-spectralcosine_k-6_dseg.nii.gz\"\n",
    ")\n",
    "seed_7T_affine = sorted_dseg.affine\n",
    "sorted_dseg = sorted_dseg.get_fdata()\n",
    "labels_L = sorted_dseg[sorted_dseg > 0] - 1  # Make 0-indexed\n",
    "data_L = np.load(\n",
    "    \"../zonaconn-smk_7T/results/diffparc/tpl-MNI152NLin6Asym/tpl-MNI152NLin6Asym_hemi-L_label-ZIR_desc-concat_from-group_connMap.npz\"\n",
    ")\n",
    "mask_L = data_L[\"mask\"]\n",
    "seed_7Tvol_L = np.zeros(mask_L.shape)\n",
    "seed_7Tvol_L[mask_L > 0] = labels_L + 1  # add a 1 so label 0 is diff from bg\n",
    "\n",
    "# Right hemi\n",
    "sorted_dseg = nib.load(\n",
    "    \"../zonaconn-smk_7T/results/diffparc/tpl-MNI152NLin6Asym/tpl-MNI152NLin6Asym_hemi-R_label-ZIR_desc-sorted_from-group_method-spectralcosine_k-6_dseg.nii.gz\"\n",
    ")\n",
    "sorted_dseg = sorted_dseg.get_fdata()\n",
    "labels_R = sorted_dseg[sorted_dseg > 0] - 1  # Make 0-indexed\n",
    "data_R = np.load(\n",
    "    \"../zonaconn-smk_7T/results/diffparc/tpl-MNI152NLin6Asym/tpl-MNI152NLin6Asym_hemi-R_label-ZIR_desc-concat_from-group_connMap.npz\"\n",
    ")\n",
    "mask_R = data_R[\"mask\"]\n",
    "seed_7Tvol_R = np.zeros(mask_R.shape)\n",
    "seed_7Tvol_R[mask_R > 0] = labels_R + 1  # add a 1 so label 0 is diff from bg"
   ]
  },
  {
   "cell_type": "code",
   "execution_count": 0,
   "id": "4ccab261-5bbf-4b50-83de-9adf442a81ea",
   "metadata": {},
   "outputs": [
    {
     "name": "stdout",
     "output_type": "stream",
     "text": [
      "7T Left: 1981.0\n",
      "7T Right: 1901.0\n"
     ]
    }
   ],
   "source": [
    "zir_l = nib.load(\n",
    "    \"../zonaconn-smk_7T/results/diffparc/tpl-MNI152NLin6Asym/tpl-MNI152NLin6Asym_hemi-L_label-ZIR_mask.nii.gz\"\n",
    ")\n",
    "zir_l = zir_l.get_fdata()\n",
    "print(f\"7T Left: {sum(zir_l[zir_l>0])}\")\n",
    "\n",
    "zir_r = nib.load(\n",
    "    \"../zonaconn-smk_7T/results/diffparc/tpl-MNI152NLin6Asym/tpl-MNI152NLin6Asym_hemi-R_label-ZIR_mask.nii.gz\"\n",
    ")\n",
    "zir_r = zir_r.get_fdata()\n",
    "print(f\"7T Right: {sum(zir_r[zir_r>0])}\")"
   ]
  },
  {
   "cell_type": "markdown",
   "id": "68545b92-19e0-4ded-b7b3-ddffb8b520f6",
   "metadata": {},
   "source": [
    "### Test"
   ]
  },
  {
   "cell_type": "code",
   "execution_count": 0,
   "id": "25c39470-94ca-4325-8339-74b589e3ad37",
   "metadata": {},
   "outputs": [],
   "source": [
    "# Left hemi\n",
    "sorted_dseg = nib.load(\n",
    "    \"../zonaconn-smk_testretest/hcp_test/results/diffparc/tpl-MNI152NLin6Asym/tpl-MNI152NLin6Asym_hemi-L_label-ZIR_desc-sorted_from-group_method-spectralcosine_k-6_dseg.nii.gz\"\n",
    ")\n",
    "seed_Test_affine = sorted_dseg.affine\n",
    "sorted_dseg = sorted_dseg.get_fdata()\n",
    "labels_L = sorted_dseg[sorted_dseg > 0] - 1  # Make 0-indexed\n",
    "data_L = np.load(\n",
    "    \"../zonaconn-smk_testretest/hcp_test/results/diffparc/tpl-MNI152NLin6Asym/tpl-MNI152NLin6Asym_hemi-L_label-ZIR_desc-concat_from-group_connMap.npz\"\n",
    ")\n",
    "mask_L = data_L[\"mask\"]\n",
    "seed_Testvol_L = np.zeros(mask_L.shape)\n",
    "seed_Testvol_L[mask_L > 0] = labels_L + 1  # add a 1 so label 0 is diff from bg\n",
    "\n",
    "# Right hemi\n",
    "sorted_dseg = nib.load(\n",
    "    \"../zonaconn-smk_testretest/hcp_test/results/diffparc/tpl-MNI152NLin6Asym/tpl-MNI152NLin6Asym_hemi-R_label-ZIR_desc-sorted_from-group_method-spectralcosine_k-6_dseg.nii.gz\"\n",
    ")\n",
    "sorted_dseg = sorted_dseg.get_fdata()\n",
    "labels_R = sorted_dseg[sorted_dseg > 0] - 1  # Make 0-indexed\n",
    "data_R = np.load(\n",
    "    \"../zonaconn-smk_testretest/hcp_test/results/diffparc/tpl-MNI152NLin6Asym/tpl-MNI152NLin6Asym_hemi-R_label-ZIR_desc-concat_from-group_connMap.npz\"\n",
    ")\n",
    "mask_R = data_R[\"mask\"]\n",
    "seed_Testvol_R = np.zeros(mask_R.shape)\n",
    "seed_Testvol_R[mask_R > 0] = labels_R + 1  # add a 1 so label 0 is diff from bg"
   ]
  },
  {
   "cell_type": "code",
   "execution_count": 0,
   "id": "108112bb-8d2a-4c63-99f6-e4224a05613f",
   "metadata": {},
   "outputs": [
    {
     "name": "stdout",
     "output_type": "stream",
     "text": [
      "Test Left: 1981.0\n",
      "Test Right: 1901.0\n"
     ]
    }
   ],
   "source": [
    "zir_l = nib.load(\n",
    "    \"../zonaconn-smk_testretest/hcp_test/results/diffparc/tpl-MNI152NLin6Asym/tpl-MNI152NLin6Asym_hemi-L_label-ZIR_mask.nii.gz\"\n",
    ")\n",
    "zir_l = zir_l.get_fdata()\n",
    "print(f\"Test Left: {sum(zir_l[zir_l>0])}\")\n",
    "\n",
    "zir_r = nib.load(\n",
    "    \"../zonaconn-smk_testretest/hcp_test/results/diffparc/tpl-MNI152NLin6Asym/tpl-MNI152NLin6Asym_hemi-R_label-ZIR_mask.nii.gz\"\n",
    ")\n",
    "zir_r = zir_r.get_fdata()\n",
    "print(f\"Test Right: {sum(zir_r[zir_r>0])}\")"
   ]
  },
  {
   "cell_type": "markdown",
   "id": "281c884a-583f-4e72-947a-6800034d2546",
   "metadata": {},
   "source": [
    "### Retest"
   ]
  },
  {
   "cell_type": "code",
   "execution_count": 0,
   "id": "7ce2ada7-1fdc-4d84-a7ec-84120e7210ee",
   "metadata": {},
   "outputs": [],
   "source": [
    "# Left hemi\n",
    "sorted_dseg = nib.load(\n",
    "    \"../zonaconn-smk_testretest/hcp_retest/results/diffparc/tpl-MNI152NLin6Asym/tpl-MNI152NLin6Asym_hemi-L_label-ZIR_desc-sorted_from-group_method-spectralcosine_k-6_dseg.nii.gz\"\n",
    ")\n",
    "seed_Retest_affine = sorted_dseg.affine\n",
    "sorted_dseg = sorted_dseg.get_fdata()\n",
    "labels_L = sorted_dseg[sorted_dseg > 0] - 1  # Make 0-indexed\n",
    "data_L = np.load(\n",
    "    \"../zonaconn-smk_testretest/hcp_retest/results/diffparc/tpl-MNI152NLin6Asym/tpl-MNI152NLin6Asym_hemi-L_label-ZIR_desc-concat_from-group_connMap.npz\"\n",
    ")\n",
    "mask_L = data_L[\"mask\"]\n",
    "seed_Retestvol_L = np.zeros(mask_L.shape)\n",
    "seed_Retestvol_L[mask_L > 0] = labels_L + 1  # add a 1 so label 0 is diff from bg\n",
    "# Labels 1 / 2 is flipped\n",
    "(\n",
    "    seed_Retestvol_L[np.where(seed_Retestvol_L == 1)],\n",
    "    seed_Retestvol_L[np.where(seed_Retestvol_L == 2)],\n",
    "    seed_Retestvol_L[np.where(seed_Retestvol_L == -1)],\n",
    ") = (-1, 1, 2)\n",
    "\n",
    "# Right hemi\n",
    "sorted_dseg = nib.load(\n",
    "    \"../zonaconn-smk_testretest/hcp_retest/results/diffparc/tpl-MNI152NLin6Asym/tpl-MNI152NLin6Asym_hemi-R_label-ZIR_desc-sorted_from-group_method-spectralcosine_k-6_dseg.nii.gz\"\n",
    ")\n",
    "sorted_dseg = sorted_dseg.get_fdata()\n",
    "labels_R = sorted_dseg[sorted_dseg > 0] - 1  # Make 0-indexed\n",
    "data_R = np.load(\n",
    "    \"../zonaconn-smk_testretest/hcp_retest/results/diffparc/tpl-MNI152NLin6Asym/tpl-MNI152NLin6Asym_hemi-R_label-ZIR_desc-concat_from-group_connMap.npz\"\n",
    ")\n",
    "mask_R = data_R[\"mask\"]\n",
    "seed_Retestvol_R = np.zeros(mask_R.shape)\n",
    "seed_Retestvol_R[mask_R > 0] = labels_R + 1  # add a 1 so label 0 is diff from bg"
   ]
  },
  {
   "cell_type": "code",
   "execution_count": 0,
   "id": "76d4f7e2-8496-4842-ac72-ecefe40316ca",
   "metadata": {},
   "outputs": [
    {
     "name": "stdout",
     "output_type": "stream",
     "text": [
      "Retest Left: 1981.0\n",
      "Retest Right: 1901.0\n"
     ]
    }
   ],
   "source": [
    "zir_l = nib.load(\n",
    "    \"../zonaconn-smk_testretest/hcp_retest/results/diffparc/tpl-MNI152NLin6Asym/tpl-MNI152NLin6Asym_hemi-L_label-ZIR_mask.nii.gz\"\n",
    ")\n",
    "zir_l = zir_l.get_fdata()\n",
    "print(f\"Retest Left: {sum(zir_l[zir_l>0])}\")\n",
    "\n",
    "zir_r = nib.load(\n",
    "    \"../zonaconn-smk_testretest/hcp_retest/results/diffparc/tpl-MNI152NLin6Asym/tpl-MNI152NLin6Asym_hemi-R_label-ZIR_mask.nii.gz\"\n",
    ")\n",
    "zir_r = zir_r.get_fdata()\n",
    "print(f\"Retest Right: {sum(zir_r[zir_r>0])}\")"
   ]
  },
  {
   "cell_type": "markdown",
   "id": "ce8dfd55-04bd-4f0b-9b10-313ab67a64a8",
   "metadata": {},
   "source": [
    "## Processing"
   ]
  },
  {
   "cell_type": "code",
   "execution_count": null,
   "id": "468a913b-3b43-4f72-916f-916b9f796a57",
   "metadata": {
    "tags": []
   },
   "outputs": [],
   "source": [
    "out_dir = Path(\"/localscratch/tkai/zonaconn_tpl-diff/7T\")\n",
    "out_dir.mkdir(exist_ok=True, parents=True)\n",
    "\n",
    "for seed_7T, seed_3T, hemi in zip(\n",
    "    (seed_7Tvol_L, seed_7Tvol_R),\n",
    "    (seed_3Tvol_L, seed_3Tvol_R),\n",
    "    (\"L\", \"R\"),\n",
    "):\n",
    "    for label in trange(1, 7):\n",
    "        diff_mask = np.zeros(seed_3T.shape)\n",
    "        dseg_idxes = np.where(seed_7T == label)\n",
    "        diff_idxes = np.where(seed_3T[dseg_idxes] != label)\n",
    "        diff_idxes = (\n",
    "            np.array([dseg_idxes[0][idx] for idx in diff_idxes])[0],\n",
    "            np.array([dseg_idxes[1][idx] for idx in diff_idxes])[0],\n",
    "            np.array([dseg_idxes[2][idx] for idx in diff_idxes])[0],\n",
    "        )\n",
    "        diff_mask[diff_idxes] = seed_3T[diff_idxes]\n",
    "\n",
    "        out_fname = f\"tpl-MNI152NLin6Asym_hemi-{hemi}_label-{label}_desc-diff_from-3T_to-7T_dseg.nii.gz\"\n",
    "        out_nii = nib.Nifti1Image(diff_mask, affine=seed_7T_affine)\n",
    "        nib.save(out_nii, out_dir.joinpath(out_fname))"
   ]
  },
  {
   "cell_type": "markdown",
   "id": "f4c00015-c1e2-4791-9f71-f38c938fe022",
   "metadata": {},
   "source": [
    "## Analysis\n",
    "\n",
    "### Centroids"
   ]
  },
  {
   "cell_type": "code",
   "execution_count": null,
   "id": "89aef757-33e5-4da6-8523-277043f880ae",
   "metadata": {},
   "outputs": [],
   "source": [
    "# 3T\n",
    "centroid_3Tclusters_L, centroid_3Tclusters_R = {}, {}\n",
    "for kidx in trange(1, 7):\n",
    "    num_voxels = seed_3Tvol_L[seed_3Tvol_L == kidx].shape[0]\n",
    "    centroid_3Tclusters_L[kidx] = np.argwhere(seed_3Tvol_L == kidx).sum(0) / num_voxels\n",
    "\n",
    "    num_voxels = seed_3Tvol_R[seed_3Tvol_R == kidx].shape[0]\n",
    "    centroid_3Tclusters_R[kidx] = np.argwhere(seed_3Tvol_R == kidx).sum(0) / num_voxels"
   ]
  },
  {
   "cell_type": "code",
   "execution_count": null,
   "id": "dc7b1d5e-0181-4448-b338-4cd3403acb85",
   "metadata": {},
   "outputs": [],
   "source": [
    "# 7T\n",
    "centroid_7Tclusters_L, centroid_7Tclusters_R = {}, {}\n",
    "for kidx in trange(1, 7):\n",
    "    num_voxels = seed_7Tvol_L[seed_7Tvol_L == kidx].shape[0]\n",
    "    centroid_7Tclusters_L[kidx] = np.argwhere(seed_7Tvol_L == kidx).sum(0) / num_voxels\n",
    "\n",
    "    num_voxels = seed_7Tvol_R[seed_7Tvol_R == kidx].shape[0]\n",
    "    centroid_7Tclusters_R[kidx] = np.argwhere(seed_7Tvol_R == kidx).sum(0) / num_voxels"
   ]
  },
  {
   "cell_type": "code",
   "execution_count": null,
   "id": "53b1b8bb-3a89-4eb3-8219-959ef6f7b562",
   "metadata": {},
   "outputs": [],
   "source": [
    "# Test\n",
    "centroid_Testclusters_L, centroid_Testclusters_R = {}, {}\n",
    "for kidx in trange(1, 7):\n",
    "    num_voxels = seed_Testvol_L[seed_Testvol_L == kidx].shape[0]\n",
    "    centroid_Testclusters_L[kidx] = (\n",
    "        np.argwhere(seed_Testvol_L == kidx).sum(0) / num_voxels\n",
    "    )\n",
    "\n",
    "    num_voxels = seed_Testvol_R[seed_Testvol_R == kidx].shape[0]\n",
    "    centroid_Testclusters_R[kidx] = (\n",
    "        np.argwhere(seed_Testvol_R == kidx).sum(0) / num_voxels\n",
    "    )"
   ]
  },
  {
   "cell_type": "code",
   "execution_count": null,
   "id": "b56222de-3ff4-4adb-922a-dea62aea4316",
   "metadata": {
    "tags": []
   },
   "outputs": [],
   "source": [
    "# Retest\n",
    "centroid_Retestclusters_L, centroid_Retestclusters_R = {}, {}\n",
    "for kidx in trange(1, 7):\n",
    "    num_voxels = seed_Retestvol_L[seed_Retestvol_L == kidx].shape[0]\n",
    "    centroid_Retestclusters_L[kidx] = (\n",
    "        np.argwhere(seed_Retestvol_L == kidx).sum(0) / num_voxels\n",
    "    )\n",
    "\n",
    "    num_voxels = seed_Retestvol_R[seed_Retestvol_R == kidx].shape[0]\n",
    "    centroid_Retestclusters_R[kidx] = (\n",
    "        np.argwhere(seed_Retestvol_R == kidx).sum(0) / num_voxels\n",
    "    )"
   ]
  },
  {
   "cell_type": "code",
   "execution_count": null,
   "id": "2cd020c9-f9c9-4667-b6aa-b93ecf811b44",
   "metadata": {},
   "outputs": [],
   "source": [
    "# Left\n",
    "centroid_dist_L = np.zeros((3, 3, 6))\n",
    "\n",
    "for kidx in trange(1, 7):\n",
    "    centroid_dist_L[0, 0, kidx - 1] = (\n",
    "        np.linalg.norm(centroid_7Tclusters_L[kidx] - centroid_3Tclusters_L[kidx])\n",
    "        * VOXEL_SZ\n",
    "    )\n",
    "    centroid_dist_L[1, 0, kidx - 1] = (\n",
    "        np.linalg.norm(centroid_7Tclusters_L[kidx] - centroid_Testclusters_L[kidx])\n",
    "        * VOXEL_SZ\n",
    "    )\n",
    "    centroid_dist_L[2, 0, kidx - 1] = (\n",
    "        np.linalg.norm(centroid_7Tclusters_L[kidx] - centroid_Retestclusters_L[kidx])\n",
    "        * VOXEL_SZ\n",
    "    )\n",
    "    centroid_dist_L[1, 1, kidx - 1] = (\n",
    "        np.linalg.norm(centroid_3Tclusters_L[kidx] - centroid_Testclusters_L[kidx])\n",
    "        * VOXEL_SZ\n",
    "    )\n",
    "    centroid_dist_L[2, 1, kidx - 1] = (\n",
    "        np.linalg.norm(centroid_3Tclusters_L[kidx] - centroid_Retestclusters_L[kidx])\n",
    "        * VOXEL_SZ\n",
    "    )\n",
    "    centroid_dist_L[2, 2, kidx - 1] = (\n",
    "        np.linalg.norm(centroid_Testclusters_L[kidx] - centroid_Retestclusters_L[kidx])\n",
    "        * VOXEL_SZ\n",
    "    )"
   ]
  },
  {
   "cell_type": "code",
   "execution_count": 0,
   "id": "ab03bbcf-6512-4159-ac9a-5589b0151fb6",
   "metadata": {},
   "outputs": [
    {
     "data": {
      "image/png": "[encoded data removed]",
      "text/plain": [
       "<Figure size 340x220 with 1 Axes>"
      ]
     },
     "metadata": {},
     "output_type": "display_data"
    }
   ],
   "source": [
    "fig, ax = plt.subplots(1, 1, figsize=(3.4, 2.2))\n",
    "\n",
    "sns.heatmap(\n",
    "    np.mean(centroid_dist_L, axis=2),\n",
    "    mask=MASK,\n",
    "    square=True,\n",
    "    linewidth=2,\n",
    "    vmin=0,\n",
    "    vmax=1,\n",
    "    cmap=\"flare\",\n",
    "    annot=True,\n",
    "    fmt=\".3f\",\n",
    "    annot_kws={\"size\": 8},\n",
    "    xticklabels=COL_LABELS,\n",
    "    yticklabels=ROW_LABELS,\n",
    "    ax=ax,\n",
    "    cbar=False,\n",
    ")\n",
    "\n",
    "# plt.title(f'Procrustus disparity', weight='bold')\n",
    "plt.yticks(rotation=90, size=8)\n",
    "plt.xticks(size=8)\n",
    "fig.tight_layout()\n",
    "plt.savefig(\"/localscratch/centroid_distance_L.png\", dpi=300, bbox_inches=\"tight\")\n",
    "plt.show()"
   ]
  },
  {
   "cell_type": "code",
   "execution_count": 0,
   "id": "19374283-5cd1-4adc-94b5-4622a04aa130",
   "metadata": {},
   "outputs": [],
   "source": [
    "plt.close()"
   ]
  },
  {
   "cell_type": "code",
   "execution_count": 0,
   "id": "9e2636f5-9d43-4f98-b7f2-f2d967b06eed",
   "metadata": {},
   "outputs": [
    {
     "data": {
      "image/png": "[encoded data removed]",
      "text/plain": [
       "<Figure size 1700x280 with 6 Axes>"
      ]
     },
     "metadata": {},
     "output_type": "display_data"
    }
   ],
   "source": [
    "fig, ax = plt.subplots(1, 6, figsize=(3.4 * 5, 2.8))\n",
    "\n",
    "for idx in range(6):\n",
    "    sns.heatmap(\n",
    "        centroid_dist_L[:, :, idx],\n",
    "        mask=MASK,\n",
    "        square=True,\n",
    "        linewidth=2,\n",
    "        vmin=0,\n",
    "        vmax=1,\n",
    "        cmap=\"flare\",\n",
    "        annot=True,\n",
    "        fmt=\".3f\",\n",
    "        annot_kws={\"size\": 8},\n",
    "        xticklabels=COL_LABELS,\n",
    "        yticklabels=ROW_LABELS,\n",
    "        ax=ax[idx],\n",
    "        cbar=False,\n",
    "    )\n",
    "    # ax[idx].set_title(f\"Cluster {idx+1}\")\n",
    "\n",
    "    if idx > 0:\n",
    "        ax[idx].yaxis.set_visible(False)\n",
    "    # ax[idx].xaxis.set_visible(False)\n",
    "\n",
    "# plt.title(f'Procrustus disparity', weight='bold')\n",
    "plt.yticks(rotation=90, size=8)\n",
    "plt.xticks(size=8)\n",
    "fig.tight_layout()\n",
    "plt.savefig(\n",
    "    \"/localscratch/centroid_distance_clusters_L.png\", dpi=300, bbox_inches=\"tight\"\n",
    ")\n",
    "plt.show()"
   ]
  },
  {
   "cell_type": "code",
   "execution_count": null,
   "id": "f2342d6b-baac-4138-b70d-de75d972fac3",
   "metadata": {},
   "outputs": [],
   "source": [
    "# Right\n",
    "centroid_dist_R = np.zeros((3, 3, 6))\n",
    "\n",
    "for kidx in trange(1, 7):\n",
    "    centroid_dist_R[0, 0, kidx - 1] = (\n",
    "        np.linalg.norm(centroid_7Tclusters_R[kidx] - centroid_3Tclusters_R[kidx])\n",
    "        * VOXEL_SZ\n",
    "    )\n",
    "    centroid_dist_R[1, 0, kidx - 1] = (\n",
    "        np.linalg.norm(centroid_7Tclusters_R[kidx] - centroid_Testclusters_R[kidx])\n",
    "        * VOXEL_SZ\n",
    "    )\n",
    "    centroid_dist_R[2, 0, kidx - 1] = (\n",
    "        np.linalg.norm(centroid_7Tclusters_R[kidx] - centroid_Retestclusters_R[kidx])\n",
    "        * VOXEL_SZ\n",
    "    )\n",
    "    centroid_dist_R[1, 1, kidx - 1] = (\n",
    "        np.linalg.norm(centroid_3Tclusters_R[kidx] - centroid_Testclusters_R[kidx])\n",
    "        * VOXEL_SZ\n",
    "    )\n",
    "    centroid_dist_R[2, 1, kidx - 1] = (\n",
    "        np.linalg.norm(centroid_3Tclusters_R[kidx] - centroid_Retestclusters_R[kidx])\n",
    "        * VOXEL_SZ\n",
    "    )\n",
    "    centroid_dist_R[2, 2, kidx - 1] = (\n",
    "        np.linalg.norm(centroid_Testclusters_R[kidx] - centroid_Retestclusters_R[kidx])\n",
    "        * VOXEL_SZ\n",
    "    )"
   ]
  },
  {
   "cell_type": "code",
   "execution_count": 0,
   "id": "c4250c93-8037-4a67-86c8-9440fb1b112b",
   "metadata": {},
   "outputs": [
    {
     "data": {
      "image/png": "[encoded data removed]",
      "text/plain": [
       "<Figure size 340x220 with 1 Axes>"
      ]
     },
     "metadata": {},
     "output_type": "display_data"
    }
   ],
   "source": [
    "fig, ax = plt.subplots(1, 1, figsize=(3.4, 2.2))\n",
    "\n",
    "sns.heatmap(\n",
    "    np.mean(centroid_dist_R, axis=2),\n",
    "    mask=MASK,\n",
    "    square=True,\n",
    "    linewidth=2,\n",
    "    vmin=0,\n",
    "    vmax=1,\n",
    "    cmap=\"flare\",\n",
    "    annot=True,\n",
    "    fmt=\".3f\",\n",
    "    annot_kws={\"size\": 8},\n",
    "    xticklabels=COL_LABELS,\n",
    "    yticklabels=ROW_LABELS,\n",
    "    ax=ax,\n",
    "    cbar=False,\n",
    ")\n",
    "\n",
    "plt.yticks(rotation=90, size=8)\n",
    "plt.xticks(size=8)\n",
    "fig.tight_layout()\n",
    "plt.savefig(\"/localscratch/centroid_distance_R.png\", dpi=300, bbox_inches=\"tight\")\n",
    "plt.show()"
   ]
  },
  {
   "cell_type": "code",
   "execution_count": 0,
   "id": "1f4986f4-9d01-4941-a3b3-b16e318e30f2",
   "metadata": {},
   "outputs": [
    {
     "data": {
      "image/png": "[encoded data removed]",
      "text/plain": [
       "<Figure size 1700x280 with 6 Axes>"
      ]
     },
     "metadata": {},
     "output_type": "display_data"
    }
   ],
   "source": [
    "fig, ax = plt.subplots(1, 6, figsize=(3.4 * 5, 2.8))\n",
    "\n",
    "for idx in range(6):\n",
    "    sns.heatmap(\n",
    "        centroid_dist_R[:, :, idx],\n",
    "        mask=MASK,\n",
    "        square=True,\n",
    "        linewidth=2,\n",
    "        vmin=0,\n",
    "        vmax=1,\n",
    "        cmap=\"flare\",\n",
    "        annot=True,\n",
    "        fmt=\".3f\",\n",
    "        annot_kws={\"size\": 8},\n",
    "        xticklabels=COL_LABELS,\n",
    "        yticklabels=ROW_LABELS,\n",
    "        ax=ax[idx],\n",
    "        cbar=False,\n",
    "    )\n",
    "    # ax[idx].set_title(f\"Cluster {idx+1}\")\n",
    "\n",
    "    if idx > 0:\n",
    "        ax[idx].yaxis.set_visible(False)\n",
    "\n",
    "# plt.title(f'Procrustus disparity', weight='bold')\n",
    "plt.yticks(rotation=90, size=8)\n",
    "plt.xticks(size=8)\n",
    "fig.tight_layout()\n",
    "plt.savefig(\n",
    "    \"/localscratch/centroid_distance_clusters_R.png\", dpi=300, bbox_inches=\"tight\"\n",
    ")\n",
    "plt.show()"
   ]
  },
  {
   "cell_type": "markdown",
   "id": "5047649c-a113-4b3a-88b7-a991d6db9080",
   "metadata": {},
   "source": [
    "### Dice Overlap"
   ]
  },
  {
   "cell_type": "code",
   "execution_count": null,
   "id": "6becfd31-d1fa-4dcc-b692-7b04c1052be5",
   "metadata": {},
   "outputs": [],
   "source": [
    "# Left\n",
    "dice_L = np.zeros((3, 3, 6))\n",
    "\n",
    "dsc_7Tv3T, dsc_7TvTest, dsc_7TvRetest = [], [], []\n",
    "dsc_3TvTest, dsc_3TvRetest = [], []\n",
    "dsc_TestvRetest = []\n",
    "for kidx in trange(1, 7):\n",
    "    bool_7T_L = np.zeros(seed_7Tvol_L.shape)\n",
    "    bool_7T_L[np.where(seed_7Tvol_L == kidx)] = True\n",
    "    bool_3T_L = np.zeros(seed_3Tvol_L.shape).astype(bool)\n",
    "    bool_3T_L[np.where(seed_3Tvol_L == kidx)] = True\n",
    "    bool_Test_L = np.zeros(seed_Testvol_L.shape).astype(bool)\n",
    "    bool_Test_L[np.where(seed_Testvol_L == kidx)] = True\n",
    "    bool_Retest_L = np.zeros(seed_Retestvol_L.shape).astype(bool)\n",
    "    bool_Retest_L[np.where(seed_Retestvol_L == kidx)] = True\n",
    "\n",
    "    dsc_7Tv3T = (\n",
    "        2\n",
    "        * (np.logical_and(bool_7T_L, bool_3T_L)).sum()\n",
    "        / (bool_7T_L.sum() + bool_3T_L.sum())\n",
    "    )\n",
    "    dsc_7TvTest = (\n",
    "        2\n",
    "        * (np.logical_and(bool_7T_L, bool_Test_L)).sum()\n",
    "        / (bool_7T_L.sum() + bool_Test_L.sum())\n",
    "    )\n",
    "    dsc_7TvRetest = (\n",
    "        2\n",
    "        * (np.logical_and(bool_7T_L, bool_Retest_L)).sum()\n",
    "        / (bool_7T_L.sum() + bool_Retest_L.sum())\n",
    "    )\n",
    "    dsc_3TvTest = (\n",
    "        2\n",
    "        * (np.logical_and(bool_3T_L, bool_Test_L)).sum()\n",
    "        / (bool_3T_L.sum() + bool_Test_L.sum())\n",
    "    )\n",
    "    dsc_3TvRetest = (\n",
    "        2\n",
    "        * (np.logical_and(bool_3T_L, bool_Retest_L)).sum()\n",
    "        / (bool_3T_L.sum() + bool_Retest_L.sum())\n",
    "    )\n",
    "    dsc_TestvRetest = (\n",
    "        2\n",
    "        * (np.logical_and(bool_Test_L, bool_Retest_L)).sum()\n",
    "        / (bool_Test_L.sum() + bool_Retest_L.sum())\n",
    "    )\n",
    "\n",
    "    dice_L[0, 0, kidx - 1] = dsc_7Tv3T\n",
    "    dice_L[1, 0, kidx - 1] = dsc_7TvTest\n",
    "    dice_L[2, 0, kidx - 1] = dsc_7TvRetest\n",
    "    dice_L[1, 1, kidx - 1] = dsc_3TvTest\n",
    "    dice_L[2, 1, kidx - 1] = dsc_3TvRetest\n",
    "    dice_L[2, 2, kidx - 1] = dsc_TestvRetest"
   ]
  },
  {
   "cell_type": "code",
   "execution_count": 0,
   "id": "d50a9cbf-3cda-44c8-b7fd-8bad0f54158a",
   "metadata": {},
   "outputs": [
    {
     "data": {
      "image/png": "[encoded data removed]",
      "text/plain": [
       "<Figure size 340x220 with 1 Axes>"
      ]
     },
     "metadata": {},
     "output_type": "display_data"
    }
   ],
   "source": [
    "fig, ax = plt.subplots(1, 1, figsize=(3.4, 2.2))\n",
    "\n",
    "sns.heatmap(\n",
    "    np.mean(dice_L, axis=2),\n",
    "    mask=MASK,\n",
    "    square=True,\n",
    "    linewidth=2,\n",
    "    vmin=0,\n",
    "    vmax=1,\n",
    "    cmap=\"flare_r\",\n",
    "    annot=True,\n",
    "    fmt=\".3f\",\n",
    "    annot_kws={\"size\": 8},\n",
    "    xticklabels=COL_LABELS,\n",
    "    yticklabels=ROW_LABELS,\n",
    "    ax=ax,\n",
    "    cbar=False,\n",
    ")\n",
    "\n",
    "plt.yticks(rotation=90, size=8)\n",
    "plt.xticks(size=8)\n",
    "fig.tight_layout()\n",
    "plt.savefig(\"/localscratch/dice_L.png\", dpi=300, bbox_inches=\"tight\")\n",
    "plt.show()"
   ]
  },
  {
   "cell_type": "code",
   "execution_count": 0,
   "id": "7e70329a-f2f0-45bb-a5f3-11d433102edf",
   "metadata": {},
   "outputs": [],
   "source": [
    "plt.close()"
   ]
  },
  {
   "cell_type": "code",
   "execution_count": 0,
   "id": "bb056e57-18ff-4fa3-b5b5-e239e0857bb8",
   "metadata": {},
   "outputs": [
    {
     "data": {
      "image/png": "[encoded data removed]",
      "text/plain": [
       "<Figure size 1700x280 with 6 Axes>"
      ]
     },
     "metadata": {},
     "output_type": "display_data"
    }
   ],
   "source": [
    "fig, ax = plt.subplots(1, 6, figsize=(3.4 * 5, 2.8))\n",
    "\n",
    "for idx in range(6):\n",
    "    sns.heatmap(\n",
    "        dice_L[:, :, idx],\n",
    "        mask=MASK,\n",
    "        square=True,\n",
    "        linewidth=2,\n",
    "        vmin=0,\n",
    "        vmax=1,\n",
    "        cmap=\"flare_r\",\n",
    "        annot=True,\n",
    "        fmt=\".3f\",\n",
    "        annot_kws={\"size\": 8},\n",
    "        xticklabels=COL_LABELS,\n",
    "        yticklabels=ROW_LABELS,\n",
    "        ax=ax[idx],\n",
    "        cbar=False,\n",
    "    )\n",
    "    # ax[idx].set_title(f\"Cluster {idx+1}\")\n",
    "\n",
    "    if idx > 0:\n",
    "        ax[idx].yaxis.set_visible(False)\n",
    "    # ax[idx].xaxis.set_visible(False)\n",
    "\n",
    "\n",
    "plt.yticks(rotation=90, size=8)\n",
    "plt.xticks(size=8)\n",
    "fig.tight_layout()\n",
    "plt.savefig(\"/localscratch/dice_L_clusters.png\", dpi=300)\n",
    "plt.show()"
   ]
  },
  {
   "cell_type": "code",
   "execution_count": null,
   "id": "159e38d5-ef60-4359-89de-fefd7cc24999",
   "metadata": {},
   "outputs": [],
   "source": [
    "# Right\n",
    "dice_R = np.zeros((3, 3, 6))\n",
    "\n",
    "dsc_7Tv3T, dsc_7TvTest, dsc_7TvRetest = [], [], []\n",
    "dsc_3TvTest, dsc_3TvRetest = [], []\n",
    "dsc_TestvRetest = []\n",
    "for kidx in trange(1, 7):\n",
    "    bool_7T_R = np.zeros(seed_7Tvol_R.shape)\n",
    "    bool_7T_R[np.where(seed_7Tvol_R == kidx)] = True\n",
    "    bool_3T_R = np.zeros(seed_3Tvol_R.shape).astype(bool)\n",
    "    bool_3T_R[np.where(seed_3Tvol_R == kidx)] = True\n",
    "    bool_Test_R = np.zeros(seed_Testvol_R.shape).astype(bool)\n",
    "    bool_Test_R[np.where(seed_Testvol_R == kidx)] = True\n",
    "    bool_Retest_R = np.zeros(seed_Retestvol_R.shape).astype(bool)\n",
    "    bool_Retest_R[np.where(seed_Retestvol_R == kidx)] = True\n",
    "\n",
    "    dsc_7Tv3T = (\n",
    "        2\n",
    "        * (np.logical_and(bool_7T_R, bool_3T_R)).sum()\n",
    "        / (bool_7T_R.sum() + bool_3T_R.sum())\n",
    "    )\n",
    "    dsc_7TvTest = (\n",
    "        2\n",
    "        * (np.logical_and(bool_7T_R, bool_Test_R)).sum()\n",
    "        / (bool_7T_R.sum() + bool_Test_R.sum())\n",
    "    )\n",
    "    dsc_7TvRetest = (\n",
    "        2\n",
    "        * (np.logical_and(bool_7T_R, bool_Retest_R)).sum()\n",
    "        / (bool_7T_R.sum() + bool_Retest_R.sum())\n",
    "    )\n",
    "    dsc_3TvTest = (\n",
    "        2\n",
    "        * (np.logical_and(bool_3T_R, bool_Test_R)).sum()\n",
    "        / (bool_3T_R.sum() + bool_Test_R.sum())\n",
    "    )\n",
    "    dsc_3TvRetest = (\n",
    "        2\n",
    "        * (np.logical_and(bool_3T_R, bool_Retest_R)).sum()\n",
    "        / (bool_3T_R.sum() + bool_Retest_R.sum())\n",
    "    )\n",
    "    dsc_TestvRetest = (\n",
    "        2\n",
    "        * (np.logical_and(bool_Test_R, bool_Retest_R)).sum()\n",
    "        / (bool_Test_R.sum() + bool_Retest_R.sum())\n",
    "    )\n",
    "\n",
    "    dice_R[0, 0, kidx - 1] = dsc_7Tv3T\n",
    "    dice_R[1, 0, kidx - 1] = dsc_7TvTest\n",
    "    dice_R[2, 0, kidx - 1] = dsc_7TvRetest\n",
    "    dice_R[1, 1, kidx - 1] = dsc_3TvTest\n",
    "    dice_R[2, 1, kidx - 1] = dsc_3TvRetest\n",
    "    dice_R[2, 2, kidx - 1] = dsc_TestvRetest"
   ]
  },
  {
   "cell_type": "code",
   "execution_count": 0,
   "id": "4909dc3a-fbf9-4b4a-9948-3e91f15d9be6",
   "metadata": {},
   "outputs": [
    {
     "data": {
      "image/png": "[encoded data removed]",
      "text/plain": [
       "<Figure size 340x220 with 1 Axes>"
      ]
     },
     "metadata": {},
     "output_type": "display_data"
    }
   ],
   "source": [
    "fig, ax = plt.subplots(1, 1, figsize=(3.4, 2.2))\n",
    "\n",
    "sns.heatmap(\n",
    "    np.mean(dice_R, axis=2),\n",
    "    mask=MASK,\n",
    "    square=True,\n",
    "    linewidth=2,\n",
    "    vmin=0,\n",
    "    vmax=1,\n",
    "    cmap=\"flare_r\",\n",
    "    annot=True,\n",
    "    fmt=\".3f\",\n",
    "    annot_kws={\"size\": 8},\n",
    "    xticklabels=COL_LABELS,\n",
    "    yticklabels=ROW_LABELS,\n",
    "    ax=ax,\n",
    "    cbar=False,\n",
    ")\n",
    "\n",
    "# plt.title(f'Procrustus disparity', weight='bold')\n",
    "plt.yticks(rotation=90, size=8)\n",
    "plt.xticks(size=8)\n",
    "fig.tight_layout()\n",
    "plt.savefig(\"/localscratch/dice_R.png\", dpi=300)\n",
    "plt.show()"
   ]
  },
  {
   "cell_type": "code",
   "execution_count": 0,
   "id": "df1e67c7-4d27-43f2-b806-e269df54f024",
   "metadata": {},
   "outputs": [],
   "source": [
    "plt.close()"
   ]
  },
  {
   "cell_type": "code",
   "execution_count": 0,
   "id": "3a26e18c-81db-4496-98d3-960b6b5b8ca1",
   "metadata": {},
   "outputs": [
    {
     "data": {
      "image/png": "[encoded data removed]",
      "text/plain": [
       "<Figure size 1700x280 with 6 Axes>"
      ]
     },
     "metadata": {},
     "output_type": "display_data"
    }
   ],
   "source": [
    "fig, ax = plt.subplots(1, 6, figsize=(3.4 * 5, 2.8))\n",
    "\n",
    "for idx in range(6):\n",
    "    sns.heatmap(\n",
    "        dice_R[:, :, idx],\n",
    "        mask=MASK,\n",
    "        square=True,\n",
    "        linewidth=2,\n",
    "        vmin=0,\n",
    "        vmax=1,\n",
    "        cmap=\"flare_r\",\n",
    "        annot=True,\n",
    "        fmt=\".3f\",\n",
    "        annot_kws={\"size\": 8},\n",
    "        xticklabels=COL_LABELS,\n",
    "        yticklabels=ROW_LABELS,\n",
    "        ax=ax[idx],\n",
    "        cbar=False,\n",
    "    )\n",
    "    # ax[idx].set_title(f\"Cluster {idx+1}\")\n",
    "\n",
    "    if idx > 0:\n",
    "        ax[idx].yaxis.set_visible(False)\n",
    "\n",
    "plt.yticks(rotation=90, size=8)\n",
    "plt.xticks(size=8)\n",
    "fig.tight_layout()\n",
    "plt.savefig(\"/localscratch/dice_R_clusters.png\", dpi=300)\n",
    "plt.show()"
   ]
  },
  {
   "cell_type": "markdown",
   "id": "cea27fe8-46f0-4f5b-ad84-6ecc1db12f0b",
   "metadata": {
    "tags": []
   },
   "source": [
    "## Installed Packages\n",
    "\n",
    "_Note: Run this after all used packages have been imported_"
   ]
  },
  {
   "cell_type": "code",
   "execution_count": 0,
   "id": "561564f6-ed47-433a-b243-57aa52982537",
   "metadata": {
    "tags": []
   },
   "outputs": [
    {
     "name": "stdout",
     "output_type": "stream",
     "text": [
      "Packages used:\n",
      "==============\n",
      "matplotlib==3.6.2\n",
      "nibabel==4.0.2\n",
      "numpy==1.24.4\n",
      "pandas==1.5.1\n",
      "seaborn==0.13.0\n"
     ]
    }
   ],
   "source": [
    "import importlib.metadata\n",
    "import types\n",
    "\n",
    "\n",
    "def get_imports():\n",
    "    for name, val in globals().items():\n",
    "        if isinstance(val, types.ModuleType):\n",
    "            # Split ensures you get root package not just imported function\n",
    "            name = val.__name__.split(\".\")[0]\n",
    "        elif isinstance(val, type):\n",
    "            name = val.__module__.split(\".\")[0]\n",
    "\n",
    "        # Map imported names to PyPI names\n",
    "        poorly_named_packages = {\"PIL\": \"Pillow\", \"sklearn\": \"scikit-learn\"}\n",
    "        if name in poorly_named_packages:\n",
    "            name = poorly_named_packages[name]\n",
    "        yield name\n",
    "\n",
    "\n",
    "# Get unique imported packages\n",
    "imports = list(set(get_imports()))\n",
    "\n",
    "# Cross-check the names of installed packages vs. imported packages\n",
    "requirements = []\n",
    "installed_packages = {\n",
    "    dist.metadata[\"Name\"]: dist.version for dist in importlib.metadata.distributions()\n",
    "}\n",
    "for name in imports:\n",
    "    if name in installed_packages and name != \"pip\":\n",
    "        requirements.append((name, installed_packages[name]))\n",
    "\n",
    "print(\"Packages used:\")\n",
    "print(\"==============\")\n",
    "for req_name, req_version in sorted(requirements[::-1], key=lambda x: x[0]):\n",
    "    print(f\"{req_name}=={req_version}\")"
   ]
  }
 ],
 "metadata": {
  "kernelspec": {
   "display_name": "Python 3 (ipykernel)",
   "language": "python",
   "name": "python3"
  },
  "language_info": {
   "codemirror_mode": {
    "name": "ipython",
    "version": 3
   },
   "file_extension": ".py",
   "mimetype": "text/x-python",
   "name": "python",
   "nbconvert_exporter": "python",
   "pygments_lexer": "ipython3",
   "version": "3.8.10"
  }
 },
 "nbformat": 4,
 "nbformat_minor": 5
}
