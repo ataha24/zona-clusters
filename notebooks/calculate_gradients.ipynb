{
 "cells": [
  {
   "cell_type": "markdown",
   "id": "d2bc2b40-6180-4ff0-b9f0-536db8ffa8f6",
   "metadata": {},
   "source": [
    "### Packages"
   ]
  },
  {
   "cell_type": "code",
   "execution_count": 23,
   "id": "d6676de1-7805-496e-86ba-9fa6d137b217",
   "metadata": {},
   "outputs": [],
   "source": [
    "import warnings\n",
    "warnings.filterwarnings('ignore')"
   ]
  },
  {
   "cell_type": "code",
   "execution_count": 2,
   "id": "e396e44f-d6f8-4515-9bf1-a2ee4ca31c48",
   "metadata": {},
   "outputs": [],
   "source": [
    "import os\n",
    "from os import path\n",
    "\n",
    "# Usual suspects\n",
    "import numpy as np\n",
    "import pandas as pd\n",
    "import nibabel as nib\n",
    "import seaborn as sns\n",
    "\n",
    "# Plotting\n",
    "import matplotlib\n",
    "import matplotlib.pyplot as plt\n",
    "from matplotlib.colors import ListedColormap\n",
    "\n",
    "# Data processing\n",
    "from brainspace.gradient import GradientMaps\n",
    "from brainspace.utils.parcellation import reduce_by_labels, map_to_labels"
   ]
  },
  {
   "cell_type": "markdown",
   "id": "24bc2e43-7684-4bd0-9e83-9c5bae4602fe",
   "metadata": {},
   "source": [
    "### Custom functions"
   ]
  },
  {
   "cell_type": "code",
   "execution_count": 3,
   "id": "7d9f3808-b636-4e27-8b28-b8ffa28435fb",
   "metadata": {},
   "outputs": [],
   "source": [
    "# Define data input paths\n",
    "def get_data_dir(scanner, notebooks=False):\n",
    "    data_dir = '/scratch/tkai/3_projects/1_inprogress/zonaconn' \n",
    "    if 'retest' in scanner:\n",
    "        data_dir = f'{data_dir}/zonaconn-smk_testretest/hcp_retest/results'\n",
    "    elif 'test' in scanner:\n",
    "        data_dir = f'{data_dir}/zonaconn-smk_testretest/hcp_test/results'    \n",
    "    elif scanner == '3T':\n",
    "        data_dir = f'{data_dir}/zonaconn-smk_3T/results'\n",
    "    elif scanner == '7T':\n",
    "        data_dir = f'{data_dir}/zonaconn-smk_7T/results'\n",
    "    elif notebooks:\n",
    "        data_dir = f'{data_dir}/notebook'\n",
    "    \n",
    "    return data_dir"
   ]
  },
  {
   "cell_type": "markdown",
   "id": "7f216a76-094f-4990-a15b-8eec20d05952",
   "metadata": {},
   "source": [
    "### Load data"
   ]
  },
  {
   "cell_type": "code",
   "execution_count": 4,
   "id": "0e5e3646-c1cd-48b5-b1ea-111511d08fdf",
   "metadata": {},
   "outputs": [],
   "source": [
    "group      = 'tpl-MNI152NLin6Asym'\n",
    "seed       = 'ZIR'\n",
    "hemisphere = 'L'\n",
    "scanner    = '7T' # from '3T', '7T', '3Ttest', '3Tretest'\n",
    "data_dir   = get_data_dir(scanner)\n",
    "conn_path  = f'{data_dir}/diffparc/{group}/{group}_hemi-{hemisphere}_label-{seed}_desc-concat_from-group_connMap.npz'"
   ]
  },
  {
   "cell_type": "code",
   "execution_count": 5,
   "id": "2bdfda37-fded-4f2e-9662-58e1d7de25e0",
   "metadata": {},
   "outputs": [
    {
     "name": "stdout",
     "output_type": "stream",
     "text": [
      "# of subjects = 169 in list\n"
     ]
    }
   ],
   "source": [
    "# Subject lists\n",
    "if 'test' in scanner:\n",
    "    subjects = pd.read_csv('../config/HCP_TestvRetest_subjects.txt', header=None)\n",
    "else:\n",
    "    subjects = pd.read_csv('../config/HCP_3Tv7T_subjects.txt', header=None)\n",
    "\n",
    "print(f'# of subjects = {len(subjects)} in list')"
   ]
  },
  {
   "cell_type": "code",
   "execution_count": 7,
   "id": "7b5ecaf6-8a9c-480e-9242-fc6a0bf9c13c",
   "metadata": {},
   "outputs": [],
   "source": [
    "# Load unsorted data for matrix sizes\n",
    "data       = np.load(path.join(conn_path))\n",
    "conn_group = data['conn_group']\n",
    "mask       = data['mask']\n",
    "affine     = data['affine']"
   ]
  },
  {
   "cell_type": "markdown",
   "id": "df27795c-844b-49c7-b0be-789987c99ce8",
   "metadata": {},
   "source": [
    "### Calculate gradients based on group average"
   ]
  },
  {
   "cell_type": "code",
   "execution_count": 9,
   "id": "586485db-0a05-4503-95ab-51ffde2fb57c",
   "metadata": {},
   "outputs": [],
   "source": [
    "n_gradients      = 100\n",
    "n_gradients_keep = 2"
   ]
  },
  {
   "cell_type": "code",
   "execution_count": 10,
   "id": "11e06caa-ab64-4210-b82f-1309eb562b65",
   "metadata": {},
   "outputs": [],
   "source": [
    "# Concat subjects\n",
    "conn_group_m = np.moveaxis(conn_group, 0, 2)\n",
    "conn_concat  = conn_group_m.reshape(\n",
    "    [conn_group_m.shape[0], conn_group_m.shape[1]*conn_group_m.shape[2]]\n",
    ")"
   ]
  },
  {
   "cell_type": "code",
   "execution_count": 11,
   "id": "4c5bca5b-c3f6-425d-97e0-6438b4f0e5d4",
   "metadata": {},
   "outputs": [],
   "source": [
    "# Average connectivity matrix\n",
    "conn_avg = np.nanmean(conn_group, axis=0)\n",
    "conn_avg_log = np.log(conn_avg)"
   ]
  },
  {
   "cell_type": "code",
   "execution_count": 12,
   "id": "a970590d-7862-401d-87d1-c88e69cdb28d",
   "metadata": {},
   "outputs": [
    {
     "data": {
      "text/html": [
       "<style>#sk-container-id-1 {color: black;}#sk-container-id-1 pre{padding: 0;}#sk-container-id-1 div.sk-toggleable {background-color: white;}#sk-container-id-1 label.sk-toggleable__label {cursor: pointer;display: block;width: 100%;margin-bottom: 0;padding: 0.3em;box-sizing: border-box;text-align: center;}#sk-container-id-1 label.sk-toggleable__label-arrow:before {content: \"▸\";float: left;margin-right: 0.25em;color: #696969;}#sk-container-id-1 label.sk-toggleable__label-arrow:hover:before {color: black;}#sk-container-id-1 div.sk-estimator:hover label.sk-toggleable__label-arrow:before {color: black;}#sk-container-id-1 div.sk-toggleable__content {max-height: 0;max-width: 0;overflow: hidden;text-align: left;background-color: #f0f8ff;}#sk-container-id-1 div.sk-toggleable__content pre {margin: 0.2em;color: black;border-radius: 0.25em;background-color: #f0f8ff;}#sk-container-id-1 input.sk-toggleable__control:checked~div.sk-toggleable__content {max-height: 200px;max-width: 100%;overflow: auto;}#sk-container-id-1 input.sk-toggleable__control:checked~label.sk-toggleable__label-arrow:before {content: \"▾\";}#sk-container-id-1 div.sk-estimator input.sk-toggleable__control:checked~label.sk-toggleable__label {background-color: #d4ebff;}#sk-container-id-1 div.sk-label input.sk-toggleable__control:checked~label.sk-toggleable__label {background-color: #d4ebff;}#sk-container-id-1 input.sk-hidden--visually {border: 0;clip: rect(1px 1px 1px 1px);clip: rect(1px, 1px, 1px, 1px);height: 1px;margin: -1px;overflow: hidden;padding: 0;position: absolute;width: 1px;}#sk-container-id-1 div.sk-estimator {font-family: monospace;background-color: #f0f8ff;border: 1px dotted black;border-radius: 0.25em;box-sizing: border-box;margin-bottom: 0.5em;}#sk-container-id-1 div.sk-estimator:hover {background-color: #d4ebff;}#sk-container-id-1 div.sk-parallel-item::after {content: \"\";width: 100%;border-bottom: 1px solid gray;flex-grow: 1;}#sk-container-id-1 div.sk-label:hover label.sk-toggleable__label {background-color: #d4ebff;}#sk-container-id-1 div.sk-serial::before {content: \"\";position: absolute;border-left: 1px solid gray;box-sizing: border-box;top: 0;bottom: 0;left: 50%;z-index: 0;}#sk-container-id-1 div.sk-serial {display: flex;flex-direction: column;align-items: center;background-color: white;padding-right: 0.2em;padding-left: 0.2em;position: relative;}#sk-container-id-1 div.sk-item {position: relative;z-index: 1;}#sk-container-id-1 div.sk-parallel {display: flex;align-items: stretch;justify-content: center;background-color: white;position: relative;}#sk-container-id-1 div.sk-item::before, #sk-container-id-1 div.sk-parallel-item::before {content: \"\";position: absolute;border-left: 1px solid gray;box-sizing: border-box;top: 0;bottom: 0;left: 50%;z-index: -1;}#sk-container-id-1 div.sk-parallel-item {display: flex;flex-direction: column;z-index: 1;position: relative;background-color: white;}#sk-container-id-1 div.sk-parallel-item:first-child::after {align-self: flex-end;width: 50%;}#sk-container-id-1 div.sk-parallel-item:last-child::after {align-self: flex-start;width: 50%;}#sk-container-id-1 div.sk-parallel-item:only-child::after {width: 0;}#sk-container-id-1 div.sk-dashed-wrapped {border: 1px dashed gray;margin: 0 0.4em 0.5em 0.4em;box-sizing: border-box;padding-bottom: 0.4em;background-color: white;}#sk-container-id-1 div.sk-label label {font-family: monospace;font-weight: bold;display: inline-block;line-height: 1.2em;}#sk-container-id-1 div.sk-label-container {text-align: center;}#sk-container-id-1 div.sk-container {/* jupyter's `normalize.less` sets `[hidden] { display: none; }` but bootstrap.min.css set `[hidden] { display: none !important; }` so we also need the `!important` here to be able to override the default hidden behavior on the sphinx rendered scikit-learn.org. See: https://github.com/scikit-learn/scikit-learn/issues/21755 */display: inline-block !important;position: relative;}#sk-container-id-1 div.sk-text-repr-fallback {display: none;}</style><div id=\"sk-container-id-1\" class=\"sk-top-container\"><div class=\"sk-text-repr-fallback\"><pre>GradientMaps(kernel=&#x27;normalized_angle&#x27;, n_components=100, random_state=0)</pre><b>In a Jupyter environment, please rerun this cell to show the HTML representation or trust the notebook. <br />On GitHub, the HTML representation is unable to render, please try loading this page with nbviewer.org.</b></div><div class=\"sk-container\" hidden><div class=\"sk-item\"><div class=\"sk-estimator sk-toggleable\"><input class=\"sk-toggleable__control sk-hidden--visually\" id=\"sk-estimator-id-1\" type=\"checkbox\" checked><label for=\"sk-estimator-id-1\" class=\"sk-toggleable__label sk-toggleable__label-arrow\">GradientMaps</label><div class=\"sk-toggleable__content\"><pre>GradientMaps(kernel=&#x27;normalized_angle&#x27;, n_components=100, random_state=0)</pre></div></div></div></div></div>"
      ],
      "text/plain": [
       "GradientMaps(kernel='normalized_angle', n_components=100, random_state=0)"
      ]
     },
     "execution_count": 12,
     "metadata": {},
     "output_type": "execute_result"
    }
   ],
   "source": [
    "# Fit gradients based on all subjects\n",
    "gm = GradientMaps(\n",
    "    n_components=n_gradients, \n",
    "    kernel='normalized_angle',\n",
    "    approach='dm',\n",
    "    random_state=0\n",
    ")\n",
    "\n",
    "gm.fit(conn_avg_log)\n",
    "\n",
    "data_dict = {\n",
    "    'group': {\n",
    "        'zir': {\n",
    "            'gradient_value': gm.gradients_,\n",
    "            'gradient_lambda': gm.lambdas_\n",
    "        }\n",
    "    }\n",
    "}"
   ]
  },
  {
   "cell_type": "markdown",
   "id": "b9fb2d99-49ba-4caf-a779-793b9c255c1e",
   "metadata": {},
   "source": [
    "#### Save to Nifti volume"
   ]
  },
  {
   "cell_type": "code",
   "execution_count": 15,
   "id": "e1d860cc-f1a8-479b-84f1-fe400cd6ad0c",
   "metadata": {},
   "outputs": [],
   "source": [
    "G_idx    = np.argwhere(mask)\n",
    "G_values = {}\n",
    "for g in range(0,n_gradients_keep):\n",
    "    G_nii = np.zeros_like(mask)\n",
    "    G_nii[mask!=0] = gm.gradients_[:,g]\n",
    "    \n",
    "    img = nib.Nifti1Image(G_nii, affine=affine)\n",
    "    nib.save(img, f'output/{scanner}/{seed}_diffparc_g{g+1}_hemi-{hemisphere}_scanner-{scanner}.nii.gz')\n",
    "    \n",
    "    G_values[g] = G_nii[G_idx[:,0], G_idx[:,1], G_idx[:,2]].flatten()"
   ]
  },
  {
   "cell_type": "markdown",
   "id": "810731d3-7ce0-41af-ac57-97acd3e57eda",
   "metadata": {
    "tags": []
   },
   "source": [
    "### Fit gradients per subject and align to group average"
   ]
  },
  {
   "cell_type": "code",
   "execution_count": 20,
   "id": "c90e744d-3117-43a7-8dc4-e919459a9d15",
   "metadata": {},
   "outputs": [],
   "source": [
    "n_subjects = conn_group.shape[0]\n",
    "# n_subjects = 10"
   ]
  },
  {
   "cell_type": "code",
   "execution_count": 21,
   "id": "8eddad4d-d8e7-47f2-9dc5-113d9f7ee3bf",
   "metadata": {},
   "outputs": [],
   "source": [
    "# Fit gradients based on each subject separately\n",
    "gp = GradientMaps(\n",
    "    n_components=n_gradients_keep, \n",
    "    kernel='normalized_angle',\n",
    "    approach='dm',\n",
    "    alignment='procrustes',\n",
    "    random_state=0\n",
    ")"
   ]
  },
  {
   "cell_type": "code",
   "execution_count": 24,
   "id": "9ac11061-d8c0-478b-a069-e5d7f198e211",
   "metadata": {},
   "outputs": [],
   "source": [
    "gp_subjects = {}\n",
    "for s in range(n_subjects):\n",
    "    gp.fit([conn_avg_log, np.log(conn_group[s,:,:])])\n",
    "    gp_subjects[s] = gp.aligned_[1]\n",
    "    \n",
    "    data_dict[f'{subjects.iloc[s,0]}'] = {\n",
    "        'zir': {\n",
    "            'gradient_value': gp.aligned_[1],\n",
    "            'gradient_lambda': gp.lambdas_[1]\n",
    "        }\n",
    "    }"
   ]
  },
  {
   "cell_type": "markdown",
   "id": "edaaf3e9-831d-4721-b072-01cf3db36e90",
   "metadata": {
    "tags": []
   },
   "source": [
    "### Gradient-weighted cortical maps"
   ]
  },
  {
   "cell_type": "code",
   "execution_count": 25,
   "id": "eeb7359b-de5d-49a6-8bf1-1edf7ad9e194",
   "metadata": {},
   "outputs": [],
   "source": [
    "# Cortical fsLR atlases\n",
    "hcp_mmp = {}\n",
    "\n",
    "for d, density in enumerate(['32k', '59k']):\n",
    "    h = 'lh' if hemisphere == 'L' else 'rh'\n",
    "    hcp_mmp[density] = nib.load(\n",
    "        f'../resources/{h}.hcp-mmp.{density}_fs_LR.label.gii'\n",
    "    ).darrays[0].data"
   ]
  },
  {
   "cell_type": "code",
   "execution_count": 26,
   "id": "2dd10df3-1d33-4a30-836a-d14086e1cd84",
   "metadata": {},
   "outputs": [],
   "source": [
    "# Group-level\n",
    "G_fsLR_lores, G_fsLR_hires = {}, {}\n",
    "for g in range(n_gradients_keep):\n",
    "    G_mat            = np.diag(gm.gradients_[:,g])\n",
    "    gradweighted     = G_mat @ conn_avg_log\n",
    "    gradweighted_avg = np.mean(gradweighted, axis=0)\n",
    "\n",
    "    for d in ['32k', '59k']:\n",
    "        tmp = map_to_labels(\n",
    "            gradweighted_avg, hcp_mmp[d],\n",
    "            mask=~np.isin(hcp_mmp[d],0),\n",
    "            fill=np.nan\n",
    "        )\n",
    "        \n",
    "        if d == '32k':\n",
    "            G_fsLR_lores[g] = tmp\n",
    "        else:\n",
    "            G_fsLR_hires[g] = tmp\n",
    "\n",
    "        # Write to Gifti surface maps\n",
    "        gii = nib.gifti.GiftiImage()\n",
    "        gii.add_gifti_data_array(\n",
    "            nib.gifti.GiftiDataArray(\n",
    "                data=tmp.astype(np.float32),\n",
    "                )\n",
    "        ) \n",
    "\n",
    "        metric_name = f'output/{scanner}/{seed}-CTX_space-fsLR_den-{d}_{hemisphere}_{scanner}_diffparc_g{g+1}-weighted.shape.gii'\n",
    "        nib.save(gii, metric_name)\n",
    "\n",
    "data_dict['group']['ctx_lores'] = {\n",
    "    'vertices': {\n",
    "        'gradient_value': np.stack(list(G_fsLR_lores.values())).T\n",
    "    }\n",
    "}\n",
    "\n",
    "data_dict['group']['ctx_hires'] = {\n",
    "    'vertices': {\n",
    "        'gradient_value': np.stack(list(G_fsLR_hires.values())).T\n",
    "    }\n",
    "}"
   ]
  },
  {
   "cell_type": "code",
   "execution_count": 27,
   "id": "430fedb1-1a6a-448f-bda2-1c9c6b6f2719",
   "metadata": {},
   "outputs": [],
   "source": [
    "# Subject-level\n",
    "for s in range(n_subjects):\n",
    "    G_fsLR_lores, G_fsLR_hires = {}, {}\n",
    "    \n",
    "    for g in range(n_gradients_keep):\n",
    "        G                = data_dict[f'{subjects.iloc[s,0]}']['zir']['gradient_value'][:,g]\n",
    "        G_mat            = np.diag(G)\n",
    "        gradweighted     = G_mat @ np.log(conn_group[s,:,:])\n",
    "        gradweighted_avg = np.mean(gradweighted, axis=0)\n",
    "\n",
    "        for d in ['32k', '59k']:\n",
    "            tmp = map_to_labels(\n",
    "                gradweighted_avg, hcp_mmp[d],\n",
    "                mask=~np.isin(hcp_mmp[d],0),\n",
    "                fill=np.nan\n",
    "            )\n",
    "\n",
    "            if d == '32k':\n",
    "                G_fsLR_lores[g] = tmp\n",
    "            else:\n",
    "                G_fsLR_hires[g] = tmp\n",
    "\n",
    "        data_dict[f'{subjects.iloc[s,0]}']['ctx_lores'] = {\n",
    "            'vertices': {\n",
    "                'gradient_value': np.stack(list(G_fsLR_lores.values())).T\n",
    "            }\n",
    "        }\n",
    "\n",
    "        data_dict[f'{subjects.iloc[s,0]}']['ctx_hires'] = {\n",
    "            'vertices': {\n",
    "                'gradient_value': np.stack(list(G_fsLR_hires.values())).T\n",
    "            }\n",
    "        }"
   ]
  },
  {
   "cell_type": "markdown",
   "id": "f64ba1d9-ef20-4d9a-8d60-e6b9f1822b9f",
   "metadata": {},
   "source": [
    "### Save data"
   ]
  },
  {
   "cell_type": "code",
   "execution_count": null,
   "id": "9e7cc41a-704d-4986-a0fe-cde0fa6ed7af",
   "metadata": {},
   "outputs": [],
   "source": [
    "# Save data to file\n",
    "np.save(\n",
    "    f'output/{scanner}/{seed}_diffparc_hemi-{hemisphere}_scanner-{scanner}_gradients-data.npy',\n",
    "    data_dict\n",
    ")"
   ]
  }
 ],
 "metadata": {
  "kernelspec": {
   "display_name": "Python 3.x Kernel",
   "language": "python",
   "name": "mne-env"
  },
  "language_info": {
   "codemirror_mode": {
    "name": "ipython",
    "version": 3
   },
   "file_extension": ".py",
   "mimetype": "text/x-python",
   "name": "python",
   "nbconvert_exporter": "python",
   "pygments_lexer": "ipython3",
   "version": "3.9.6"
  }
 },
 "nbformat": 4,
 "nbformat_minor": 5
}
